{
 "cells": [
  {
   "cell_type": "markdown",
   "id": "dadbfab3",
   "metadata": {
    "toc": true
   },
   "source": [
    "<h1>Table of Contents<span class=\"tocSkip\"></span></h1>\n",
    "<div class=\"toc\"><ul class=\"toc-item\"><li><span><a href=\"#Introduction\" data-toc-modified-id=\"Introduction-1\"><span class=\"toc-item-num\">1&nbsp;&nbsp;</span>Introduction</a></span><ul class=\"toc-item\"><li><span><a href=\"#Problem-Description\" data-toc-modified-id=\"Problem-Description-1.1\"><span class=\"toc-item-num\">1.1&nbsp;&nbsp;</span>Problem Description</a></span></li><li><span><a href=\"#Column-Description\" data-toc-modified-id=\"Column-Description-1.2\"><span class=\"toc-item-num\">1.2&nbsp;&nbsp;</span>Column Description</a></span></li></ul></li><li><span><a href=\"#Exploratory-Data-Analysis\" data-toc-modified-id=\"Exploratory-Data-Analysis-2\"><span class=\"toc-item-num\">2&nbsp;&nbsp;</span>Exploratory Data Analysis</a></span><ul class=\"toc-item\"><li><span><a href=\"#Functions\" data-toc-modified-id=\"Functions-2.1\"><span class=\"toc-item-num\">2.1&nbsp;&nbsp;</span>Functions</a></span><ul class=\"toc-item\"><li><span><a href=\"#lower_case_column_names\" data-toc-modified-id=\"lower_case_column_names-2.1.1\"><span class=\"toc-item-num\">2.1.1&nbsp;&nbsp;</span>lower_case_column_names</a></span></li><li><span><a href=\"#lowercase_values\" data-toc-modified-id=\"lowercase_values-2.1.2\"><span class=\"toc-item-num\">2.1.2&nbsp;&nbsp;</span>lowercase_values</a></span></li></ul></li><li><span><a href=\"#Cleaning\" data-toc-modified-id=\"Cleaning-2.2\"><span class=\"toc-item-num\">2.2&nbsp;&nbsp;</span>Cleaning</a></span><ul class=\"toc-item\"><li><span><a href=\"#Module-import\" data-toc-modified-id=\"Module-import-2.2.1\"><span class=\"toc-item-num\">2.2.1&nbsp;&nbsp;</span>Module import</a></span></li><li><span><a href=\"#Data-import-and-concatenation\" data-toc-modified-id=\"Data-import-and-concatenation-2.2.2\"><span class=\"toc-item-num\">2.2.2&nbsp;&nbsp;</span>Data import and concatenation</a></span></li><li><span><a href=\"#Option-to-see-all-the-columns-displayed\" data-toc-modified-id=\"Option-to-see-all-the-columns-displayed-2.2.3\"><span class=\"toc-item-num\">2.2.3&nbsp;&nbsp;</span>Option to see all the columns displayed</a></span></li><li><span><a href=\"#Verification-of-the-data-information\" data-toc-modified-id=\"Verification-of-the-data-information-2.2.4\"><span class=\"toc-item-num\">2.2.4&nbsp;&nbsp;</span>Verification of the data information</a></span></li><li><span><a href=\"#Adding-columns-with-footnotes-in-a-separate-list\" data-toc-modified-id=\"Adding-columns-with-footnotes-in-a-separate-list-2.2.5\"><span class=\"toc-item-num\">2.2.5&nbsp;&nbsp;</span>Adding columns with footnotes in a separate list</a></span></li><li><span><a href=\"#Dropping-rows-with-footnotes,-which-means-incomplete-data\" data-toc-modified-id=\"Dropping-rows-with-footnotes,-which-means-incomplete-data-2.2.6\"><span class=\"toc-item-num\">2.2.6&nbsp;&nbsp;</span>Dropping rows with footnotes, which means incomplete data</a></span></li><li><span><a href=\"#Dropping-unused-columns\" data-toc-modified-id=\"Dropping-unused-columns-2.2.7\"><span class=\"toc-item-num\">2.2.7&nbsp;&nbsp;</span>Dropping unused columns</a></span></li><li><span><a href=\"#Replacing-value-in-specific-columns\" data-toc-modified-id=\"Replacing-value-in-specific-columns-2.2.8\"><span class=\"toc-item-num\">2.2.8&nbsp;&nbsp;</span>Replacing value in specific columns</a></span></li><li><span><a href=\"#Adding-state-full-names-for-visibility\" data-toc-modified-id=\"Adding-state-full-names-for-visibility-2.2.9\"><span class=\"toc-item-num\">2.2.9&nbsp;&nbsp;</span>Adding state full names for visibility</a></span></li><li><span><a href=\"#Correcting-types\" data-toc-modified-id=\"Correcting-types-2.2.10\"><span class=\"toc-item-num\">2.2.10&nbsp;&nbsp;</span>Correcting types</a></span></li><li><span><a href=\"#Standardizing-strings\" data-toc-modified-id=\"Standardizing-strings-2.2.11\"><span class=\"toc-item-num\">2.2.11&nbsp;&nbsp;</span>Standardizing strings</a></span></li><li><span><a href=\"#Dropping-duplicates\" data-toc-modified-id=\"Dropping-duplicates-2.2.12\"><span class=\"toc-item-num\">2.2.12&nbsp;&nbsp;</span>Dropping duplicates</a></span></li><li><span><a href=\"#Checking-null-values\" data-toc-modified-id=\"Checking-null-values-2.2.13\"><span class=\"toc-item-num\">2.2.13&nbsp;&nbsp;</span>Checking null values</a></span></li><li><span><a href=\"#Dividing-dataframes-based-on-the-available-information\" data-toc-modified-id=\"Dividing-dataframes-based-on-the-available-information-2.2.14\"><span class=\"toc-item-num\">2.2.14&nbsp;&nbsp;</span>Dividing dataframes based on the available information</a></span></li><li><span><a href=\"#Dropping-unused-columns\" data-toc-modified-id=\"Dropping-unused-columns-2.2.15\"><span class=\"toc-item-num\">2.2.15&nbsp;&nbsp;</span>Dropping unused columns</a></span></li><li><span><a href=\"#Saving-as-a-csv\" data-toc-modified-id=\"Saving-as-a-csv-2.2.16\"><span class=\"toc-item-num\">2.2.16&nbsp;&nbsp;</span>Saving as a csv</a></span></li></ul></li></ul></li></ul></div>"
   ]
  },
  {
   "cell_type": "markdown",
   "id": "8dd75a00",
   "metadata": {},
   "source": [
    "## Introduction"
   ]
  },
  {
   "cell_type": "markdown",
   "id": "4b7b0236",
   "metadata": {},
   "source": [
    "### Problem Description\n",
    "\n",
    "https://www.kaggle.com/abrambeyer/us-hospital-customer-satisfaction-20162020\n",
    "https://data.cms.gov/provider-data/topics/hospitals/overall-hospital-quality-star-rating/#:~:text=The%20Overall%20Hospital%20Quality%20Star%20rating%20summarizes%20a,as%209%20or%20as%20many%20as%2051%20measures.\n",
    "https://www.hcahpsonline.org/globalassets/hcahps/star-ratings/tech-notes/october_2021_star-ratings_tech-notes_updated.pdf\n",
    "- About EHR : https://www.cms.gov/Regulations-and-Guidance/Legislation/EHRIncentivePrograms\n",
    "\n",
    "- Problems : \n",
    "- Which hospitals have the best overall performance? Best performance by measure such as Patient Experience?\n",
    "- Which states, cities, counties have the most high-performing hospitals? The lowest performing hospitals?\n",
    "- How have individual hospitals overall performance changed between 2016 and 2020? Are certain locations getting better or worse overall?\n",
    "- Is the overall CMS star rating correlated with patient satisfaction?\n",
    "- Can we predict a hospital overall rating from its patient satisfaction scores?\n",
    "- Can we predict a hospital overall rating based on the hospital features ?\n",
    "- Which survey questions are most informative of a hospital's overall quality?"
   ]
  },
  {
   "cell_type": "markdown",
   "id": "e9282e32",
   "metadata": {},
   "source": [
    "### Column Description\n",
    "\n",
    "https://www.hcahpsonline.org/en/hcahps-star-ratings/\n",
    "\n",
    "- Column Name\tData Type\tDescription\n",
    "- Facility ID\tChar(6)\tFacility Medicare ID\n",
    "- Facility Name\tChar(72)\tName of the facility\n",
    "- Address\tChar(51)\tFacility street address\n",
    "- City\tChar(20)\tFacility City\n",
    "- State\tChar(2)\tFacility State\n",
    "- ZIP Code\tNum(8)\tFacility ZIP Code\n",
    "- County Name\tChar(25)\tFacility County\n",
    "- Phone Number\tChar(14)\tFacility Phone Number\n",
    "- HCAHPS Measure ID\tChar(25)\tHCAHPS Patient Survey Measure Name\n",
    "- HCAHPS Question\tChar(138)\tHCAHPS Patient Survey Question\n",
    "- HCAHPS Answer Description\tChar(118)\tHCAHPS Patient Survey Answer\n",
    "- Patient Survey Star Rating\tChar(14)\tOverall rating for survey item\n",
    "- Patient Survey Star Rating Footnote\tChar(7)\tn/a\n",
    "- HCAHPS Answer Percent\tChar(14)\tPercent of surveys with question answered\n",
    "- HCAHPS Answer Percent Footnote\tChar(8)\tn/a\n",
    "- HCAHPS Linear Mean Value\tChar(14)\tHCAHPS Patient Survey question linear mean value\n",
    "- Number of Completed Surveys\tChar(13)\tNumber of completed surveys for hospital. N-size.\n",
    "- Number of Completed Surveys Footnote\tChar(8)\tn/a\n",
    "- Survey Response Rate Percent\tChar(13)\tHospital survey response rate.\n",
    "- Survey Response Rate Percent Footnote\tChar(8)\tn/a\n",
    "- Start Date\tDate\tSurvey collection period start date\n",
    "- End Date\tDate\tSurvey collection period end date\n",
    "- Year\tChar(4)\tcms data release year\n",
    "- Hospital Type\tChar(34)\tWhat type of facility is it?\n",
    "- Hospital Ownership\tChar(43)\tWhat type of ownership does the facility have?\n",
    "- Emergency Services\tChar(3))\tDoes the facility have emergency services Yes/No?\n",
    "- Meets criteria for promoting interoperability of EHRs\tChar(1)\tDoes facility meet government EHR standard Yes/No?\n",
    "- Hospital overall rating\tChar(13)\tHospital Overall Star Rating 1=Worst; 5=Best. Aggregate measure of all other measures\n",
    "- Hospital overall rating footnote\tNum(8)\t\n",
    "- Mortality national comparison\tChar(28)\tFacility overall performance on mortality measures compared to other facilities\n",
    "- Mortality national comparison footnote\tNum(8)\t\n",
    "- Safety of care national comparison\tChar(28)\tFacility overall performance on safety measures compared to other facilities\n",
    "- Safety of care national comparison footnote\tNum(8)\t\n",
    "- Readmission national comparison\tChar(28)\tFacility overall performance on readmission measures compared to other facilities\n",
    "- Readmission national comparison footnote\tNum(8)\t\n",
    "- Patient experience national comparison\tChar(28)\tFacility overall performance on pat. exp. measures compared to other facilities\n",
    "- Patient experience national comparison footnote\tChar(8)\t\n",
    "- Effectiveness of care national comparison\tChar(28)\tFacility overall performance on effect. of care measures compared to other facilities\n",
    "- Effectiveness of care national comparison footnote\tChar(8)\t\n",
    "- Timeliness of care national comparison\tChar(28)\tFacility overall performance on timeliness of care measures compared to other facilities\n",
    "- Timeliness of care national comparison footnote\tChar(8)\t\n",
    "- Efficient use of medical imaging national comparison\tChar(28)\tFacility overall performance on efficient use measures compared to other facilities\n",
    "- Efficient use of medical imaging national comparison footnote\tChar(8)"
   ]
  },
  {
   "cell_type": "markdown",
   "id": "7d9f59f3",
   "metadata": {},
   "source": [
    "## Exploratory Data Analysis "
   ]
  },
  {
   "cell_type": "markdown",
   "id": "4e19c9f7",
   "metadata": {},
   "source": [
    "### Functions"
   ]
  },
  {
   "cell_type": "markdown",
   "id": "1ad9a19d",
   "metadata": {},
   "source": [
    "#### lower_case_column_names"
   ]
  },
  {
   "cell_type": "code",
   "execution_count": 1,
   "id": "d83b45bf",
   "metadata": {},
   "outputs": [],
   "source": [
    "def lower_case_column_names(my_df):\n",
    "    my_df.columns=[i.lower() for i in my_df.columns]\n",
    "    return"
   ]
  },
  {
   "cell_type": "markdown",
   "id": "437b4b5a",
   "metadata": {},
   "source": [
    "#### lowercase_values"
   ]
  },
  {
   "cell_type": "code",
   "execution_count": 2,
   "id": "65c4d77e",
   "metadata": {},
   "outputs": [],
   "source": [
    "def lowercase_values(dataframe):\n",
    "    for column_name in list(dataframe.select_dtypes(include='object').columns.values):\n",
    "        dataframe[column_name] = dataframe[column_name].str.lower()"
   ]
  },
  {
   "cell_type": "markdown",
   "id": "a9525a67",
   "metadata": {},
   "source": [
    "### Cleaning\n"
   ]
  },
  {
   "cell_type": "markdown",
   "id": "bace1152",
   "metadata": {},
   "source": [
    "#### Module import"
   ]
  },
  {
   "cell_type": "code",
   "execution_count": 3,
   "id": "c78be75c",
   "metadata": {},
   "outputs": [],
   "source": [
    "import pandas as pd\n",
    "import numpy as np"
   ]
  },
  {
   "cell_type": "markdown",
   "id": "eeedae5f",
   "metadata": {},
   "source": [
    "#### Data import and concatenation"
   ]
  },
  {
   "cell_type": "code",
   "execution_count": 4,
   "id": "07b60f84",
   "metadata": {},
   "outputs": [
    {
     "name": "stderr",
     "output_type": "stream",
     "text": [
      "C:\\Users\\floza\\.conda\\envs\\DA_ENV\\lib\\site-packages\\IPython\\core\\interactiveshell.py:3251: DtypeWarning: Columns (14,17,19,26) have mixed types.Specify dtype option on import or set low_memory=False.\n",
      "  exec(code_obj, self.user_global_ns, self.user_ns)\n",
      "C:\\Users\\floza\\.conda\\envs\\DA_ENV\\lib\\site-packages\\IPython\\core\\interactiveshell.py:3251: DtypeWarning: Columns (0,14,17,19,26) have mixed types.Specify dtype option on import or set low_memory=False.\n",
      "  exec(code_obj, self.user_global_ns, self.user_ns)\n"
     ]
    }
   ],
   "source": [
    "file_1 = pd.read_csv(\"Data/cms_hospital_patient_satisfaction_2016.csv\")\n",
    "lower_case_column_names(file_1)\n",
    "file_2 = pd.read_csv(\"Data/cms_hospital_patient_satisfaction_2017.csv\")\n",
    "lower_case_column_names(file_2)\n",
    "file_3 = pd.read_csv(\"Data/cms_hospital_patient_satisfaction_2018.csv\")\n",
    "lower_case_column_names(file_3)\n",
    "file_4 = pd.read_csv(\"Data/cms_hospital_patient_satisfaction_2019.csv\")\n",
    "lower_case_column_names(file_4)\n",
    "file_5 = pd.read_csv(\"Data/cms_hospital_patient_satisfaction_2020.csv\")\n",
    "lower_case_column_names(file_5)\n",
    "\n",
    "df = pd.concat([file_1, file_2, file_3,file_4,file_5], axis=0)"
   ]
  },
  {
   "cell_type": "markdown",
   "id": "7e1eeaae",
   "metadata": {},
   "source": [
    "#### Option to see all the columns displayed"
   ]
  },
  {
   "cell_type": "code",
   "execution_count": 5,
   "id": "d004ec0b",
   "metadata": {},
   "outputs": [],
   "source": [
    "pd.set_option(\"display.max_columns\", None)"
   ]
  },
  {
   "cell_type": "markdown",
   "id": "e69f3159",
   "metadata": {},
   "source": [
    "#### Verification of the data information"
   ]
  },
  {
   "cell_type": "code",
   "execution_count": 6,
   "id": "ba38e7ec",
   "metadata": {},
   "outputs": [
    {
     "name": "stdout",
     "output_type": "stream",
     "text": [
      "  facility id                     facility name                 address  \\\n",
      "0       10001  SOUTHEAST ALABAMA MEDICAL CENTER  1108 ROSS CLARK CIRCLE   \n",
      "1       10001  SOUTHEAST ALABAMA MEDICAL CENTER  1108 ROSS CLARK CIRCLE   \n",
      "2       10001  SOUTHEAST ALABAMA MEDICAL CENTER  1108 ROSS CLARK CIRCLE   \n",
      "3       10001  SOUTHEAST ALABAMA MEDICAL CENTER  1108 ROSS CLARK CIRCLE   \n",
      "4       10001  SOUTHEAST ALABAMA MEDICAL CENTER  1108 ROSS CLARK CIRCLE   \n",
      "\n",
      "     city state  zip code county name phone number     hcahps measure id  \\\n",
      "0  DOTHAN    AL     36301     HOUSTON   3347938701         H_STAR_RATING   \n",
      "1  DOTHAN    AL     36301     HOUSTON   3347938701       H_CLEAN_HSP_A_P   \n",
      "2  DOTHAN    AL     36301     HOUSTON   3347938701      H_CLEAN_HSP_SN_P   \n",
      "3  DOTHAN    AL     36301     HOUSTON   3347938701       H_CLEAN_HSP_U_P   \n",
      "4  DOTHAN    AL     36301     HOUSTON   3347938701  H_CLEAN_LINEAR_SCORE   \n",
      "\n",
      "                                     hcahps question  \\\n",
      "0                                Summary star rating   \n",
      "1  Patients who reported that their room and bath...   \n",
      "2  Patients who reported that their room and bath...   \n",
      "3  Patients who reported that their room and bath...   \n",
      "4                    Cleanliness - linear mean score   \n",
      "\n",
      "               hcahps answer description patient survey star rating  \\\n",
      "0                    Summary star rating                          3   \n",
      "1                Room was \"always\" clean             Not Applicable   \n",
      "2  Room was \"sometimes\" or \"never\" clean             Not Applicable   \n",
      "3               Room was \"usually\" clean             Not Applicable   \n",
      "4        Cleanliness - linear mean score             Not Applicable   \n",
      "\n",
      "  patient survey star rating footnote hcahps answer percent  \\\n",
      "0                                 NaN        Not Applicable   \n",
      "1                                 NaN                    65   \n",
      "2                                 NaN                    12   \n",
      "3                                 NaN                    23   \n",
      "4                                 NaN        Not Applicable   \n",
      "\n",
      "  hcahps answer percent footnote hcahps linear mean value  \\\n",
      "0                            NaN           Not Applicable   \n",
      "1                            NaN           Not Applicable   \n",
      "2                            NaN           Not Applicable   \n",
      "3                            NaN           Not Applicable   \n",
      "4                            NaN                       84   \n",
      "\n",
      "  number of completed surveys number of completed surveys footnote  \\\n",
      "0                        1213                                  NaN   \n",
      "1                        1213                                  NaN   \n",
      "2                        1213                                  NaN   \n",
      "3                        1213                                  NaN   \n",
      "4                        1213                                  NaN   \n",
      "\n",
      "  survey response rate percent survey response rate percent footnote  \\\n",
      "0                           27                                   NaN   \n",
      "1                           27                                   NaN   \n",
      "2                           27                                   NaN   \n",
      "3                           27                                   NaN   \n",
      "4                           27                                   NaN   \n",
      "\n",
      "   start date    end date  year         hospital type  \\\n",
      "0  04/01/2015  03/31/2016  2016  Acute Care Hospitals   \n",
      "1  04/01/2015  03/31/2016  2016  Acute Care Hospitals   \n",
      "2  04/01/2015  03/31/2016  2016  Acute Care Hospitals   \n",
      "3  04/01/2015  03/31/2016  2016  Acute Care Hospitals   \n",
      "4  04/01/2015  03/31/2016  2016  Acute Care Hospitals   \n",
      "\n",
      "                            hospital ownership emergency services  \\\n",
      "0  Government - Hospital District or Authority                Yes   \n",
      "1  Government - Hospital District or Authority                Yes   \n",
      "2  Government - Hospital District or Authority                Yes   \n",
      "3  Government - Hospital District or Authority                Yes   \n",
      "4  Government - Hospital District or Authority                Yes   \n",
      "\n",
      "  meets criteria for promoting interoperability of ehrs  \\\n",
      "0                                                  Y      \n",
      "1                                                  Y      \n",
      "2                                                  Y      \n",
      "3                                                  Y      \n",
      "4                                                  Y      \n",
      "\n",
      "  hospital overall rating hospital overall rating footnote  \\\n",
      "0                       3                              NaN   \n",
      "1                       3                              NaN   \n",
      "2                       3                              NaN   \n",
      "3                       3                              NaN   \n",
      "4                       3                              NaN   \n",
      "\n",
      "  mortality national comparison mortality national comparison footnote  \\\n",
      "0  Same as the National average                                    NaN   \n",
      "1  Same as the National average                                    NaN   \n",
      "2  Same as the National average                                    NaN   \n",
      "3  Same as the National average                                    NaN   \n",
      "4  Same as the National average                                    NaN   \n",
      "\n",
      "  safety of care national comparison  \\\n",
      "0         Above the National average   \n",
      "1         Above the National average   \n",
      "2         Above the National average   \n",
      "3         Above the National average   \n",
      "4         Above the National average   \n",
      "\n",
      "  safety of care national comparison footnote readmission national comparison  \\\n",
      "0                                         NaN    Same as the National average   \n",
      "1                                         NaN    Same as the National average   \n",
      "2                                         NaN    Same as the National average   \n",
      "3                                         NaN    Same as the National average   \n",
      "4                                         NaN    Same as the National average   \n",
      "\n",
      "  readmission national comparison footnote  \\\n",
      "0                                      NaN   \n",
      "1                                      NaN   \n",
      "2                                      NaN   \n",
      "3                                      NaN   \n",
      "4                                      NaN   \n",
      "\n",
      "  patient experience national comparison  \\\n",
      "0             Below the National average   \n",
      "1             Below the National average   \n",
      "2             Below the National average   \n",
      "3             Below the National average   \n",
      "4             Below the National average   \n",
      "\n",
      "  patient experience national comparison footnote  \\\n",
      "0                                             NaN   \n",
      "1                                             NaN   \n",
      "2                                             NaN   \n",
      "3                                             NaN   \n",
      "4                                             NaN   \n",
      "\n",
      "  effectiveness of care national comparison  \\\n",
      "0              Same as the National average   \n",
      "1              Same as the National average   \n",
      "2              Same as the National average   \n",
      "3              Same as the National average   \n",
      "4              Same as the National average   \n",
      "\n",
      "  effectiveness of care national comparison footnote  \\\n",
      "0                                                NaN   \n",
      "1                                                NaN   \n",
      "2                                                NaN   \n",
      "3                                                NaN   \n",
      "4                                                NaN   \n",
      "\n",
      "  timeliness of care national comparison  \\\n",
      "0           Same as the National average   \n",
      "1           Same as the National average   \n",
      "2           Same as the National average   \n",
      "3           Same as the National average   \n",
      "4           Same as the National average   \n",
      "\n",
      "  timeliness of care national comparison footnote  \\\n",
      "0                                             NaN   \n",
      "1                                             NaN   \n",
      "2                                             NaN   \n",
      "3                                             NaN   \n",
      "4                                             NaN   \n",
      "\n",
      "  efficient use of medical imaging national comparison  \\\n",
      "0                       Same as the National average     \n",
      "1                       Same as the National average     \n",
      "2                       Same as the National average     \n",
      "3                       Same as the National average     \n",
      "4                       Same as the National average     \n",
      "\n",
      "  efficient use of medical imaging national comparison footnote  \n",
      "0                                                NaN             \n",
      "1                                                NaN             \n",
      "2                                                NaN             \n",
      "3                                                NaN             \n",
      "4                                                NaN             \n"
     ]
    },
    {
     "name": "stdout",
     "output_type": "stream",
     "text": [
      "<class 'pandas.core.frame.DataFrame'>\n",
      "Int64Index: 1653683 entries, 0 to 442586\n",
      "Data columns (total 43 columns):\n",
      " #   Column                                                         Non-Null Count    Dtype \n",
      "---  ------                                                         --------------    ----- \n",
      " 0   facility id                                                    1653683 non-null  object\n",
      " 1   facility name                                                  1653683 non-null  object\n",
      " 2   address                                                        1653683 non-null  object\n",
      " 3   city                                                           1653683 non-null  object\n",
      " 4   state                                                          1653683 non-null  object\n",
      " 5   zip code                                                       1653683 non-null  int64 \n",
      " 6   county name                                                    1651283 non-null  object\n",
      " 7   phone number                                                   1653683 non-null  object\n",
      " 8   hcahps measure id                                              1653683 non-null  object\n",
      " 9   hcahps question                                                1653683 non-null  object\n",
      " 10  hcahps answer description                                      1653683 non-null  object\n",
      " 11  patient survey star rating                                     1653683 non-null  object\n",
      " 12  patient survey star rating footnote                            76826 non-null    object\n",
      " 13  hcahps answer percent                                          1653683 non-null  object\n",
      " 14  hcahps answer percent footnote                                 346726 non-null   object\n",
      " 15  hcahps linear mean value                                       1653683 non-null  object\n",
      " 16  number of completed surveys                                    1653683 non-null  object\n",
      " 17  number of completed surveys footnote                           506289 non-null   object\n",
      " 18  survey response rate percent                                   1653683 non-null  object\n",
      " 19  survey response rate percent footnote                          506289 non-null   object\n",
      " 20  start date                                                     1653683 non-null  object\n",
      " 21  end date                                                       1653683 non-null  object\n",
      " 22  year                                                           1653683 non-null  int64 \n",
      " 23  hospital type                                                  1653683 non-null  object\n",
      " 24  hospital ownership                                             1653683 non-null  object\n",
      " 25  emergency services                                             1653683 non-null  object\n",
      " 26  meets criteria for promoting interoperability of ehrs          1440651 non-null  object\n",
      " 27  hospital overall rating                                        1653683 non-null  object\n",
      " 28  hospital overall rating footnote                               441842 non-null   object\n",
      " 29  mortality national comparison                                  1653683 non-null  object\n",
      " 30  mortality national comparison footnote                         475951 non-null   object\n",
      " 31  safety of care national comparison                             1653683 non-null  object\n",
      " 32  safety of care national comparison footnote                    744337 non-null   object\n",
      " 33  readmission national comparison                                1653683 non-null  object\n",
      " 34  readmission national comparison footnote                       336592 non-null   object\n",
      " 35  patient experience national comparison                         1653683 non-null  object\n",
      " 36  patient experience national comparison footnote                470302 non-null   object\n",
      " 37  effectiveness of care national comparison                      1653683 non-null  object\n",
      " 38  effectiveness of care national comparison footnote             410079 non-null   object\n",
      " 39  timeliness of care national comparison                         1653683 non-null  object\n",
      " 40  timeliness of care national comparison footnote                373723 non-null   object\n",
      " 41  efficient use of medical imaging national comparison           1653683 non-null  object\n",
      " 42  efficient use of medical imaging national comparison footnote  634119 non-null   object\n",
      "dtypes: int64(2), object(41)\n",
      "memory usage: 555.1+ MB\n",
      "None\n"
     ]
    }
   ],
   "source": [
    "print(df.head())\n",
    "print(df.info())"
   ]
  },
  {
   "cell_type": "markdown",
   "id": "a7ff7922",
   "metadata": {},
   "source": [
    "In order to clean the data,I want to keep only the columns with no footnotes, which means the columns where all data is available"
   ]
  },
  {
   "cell_type": "markdown",
   "id": "1aa55edb",
   "metadata": {},
   "source": [
    "#### Adding columns with footnotes in a separate list"
   ]
  },
  {
   "cell_type": "code",
   "execution_count": 7,
   "id": "265190e1",
   "metadata": {},
   "outputs": [],
   "source": [
    "\n",
    "footnotes = []\n",
    "\n",
    "lower_case_column_names(df)\n",
    "\n",
    "for x in list(df.columns): \n",
    "    if \"footnote\"  in x:\n",
    "       footnotes.append(x)\n",
    "#print(footnotes)"
   ]
  },
  {
   "cell_type": "markdown",
   "id": "8520fdd5",
   "metadata": {},
   "source": [
    "#### Dropping rows with footnotes, which means incomplete data"
   ]
  },
  {
   "cell_type": "code",
   "execution_count": 8,
   "id": "6da82467",
   "metadata": {},
   "outputs": [],
   "source": [
    "for x in footnotes:\n",
    "    df.drop(df[df[x].isna() == False].index,inplace = True)"
   ]
  },
  {
   "cell_type": "markdown",
   "id": "fef190ad",
   "metadata": {},
   "source": [
    "#### Dropping unused columns"
   ]
  },
  {
   "cell_type": "code",
   "execution_count": 9,
   "id": "f483fb80",
   "metadata": {},
   "outputs": [],
   "source": [
    "df.drop(columns=['facility name', 'county name','phone number','address','city','zip code'],inplace = True)"
   ]
  },
  {
   "cell_type": "code",
   "execution_count": 10,
   "id": "b59613a5",
   "metadata": {},
   "outputs": [],
   "source": [
    "df.drop(columns=footnotes,inplace = True)"
   ]
  },
  {
   "cell_type": "markdown",
   "id": "bc1d78ae",
   "metadata": {},
   "source": [
    "#### Replacing value in specific columns"
   ]
  },
  {
   "cell_type": "code",
   "execution_count": 11,
   "id": "93580926",
   "metadata": {
    "scrolled": true
   },
   "outputs": [],
   "source": [
    "df[\"meets criteria for promoting interoperability of ehrs\"].fillna(value=\"N\",inplace = True)"
   ]
  },
  {
   "cell_type": "markdown",
   "id": "af3daf8e",
   "metadata": {},
   "source": [
    "#### Adding state full names for visibility"
   ]
  },
  {
   "cell_type": "code",
   "execution_count": 12,
   "id": "0cffdeb1",
   "metadata": {},
   "outputs": [
    {
     "data": {
      "text/html": [
       "<div>\n",
       "<style scoped>\n",
       "    .dataframe tbody tr th:only-of-type {\n",
       "        vertical-align: middle;\n",
       "    }\n",
       "\n",
       "    .dataframe tbody tr th {\n",
       "        vertical-align: top;\n",
       "    }\n",
       "\n",
       "    .dataframe thead th {\n",
       "        text-align: right;\n",
       "    }\n",
       "</style>\n",
       "<table border=\"1\" class=\"dataframe\">\n",
       "  <thead>\n",
       "    <tr style=\"text-align: right;\">\n",
       "      <th></th>\n",
       "      <th>facility id</th>\n",
       "      <th>state</th>\n",
       "      <th>hcahps measure id</th>\n",
       "      <th>hcahps question</th>\n",
       "      <th>hcahps answer description</th>\n",
       "      <th>patient survey star rating</th>\n",
       "      <th>hcahps answer percent</th>\n",
       "      <th>hcahps linear mean value</th>\n",
       "      <th>number of completed surveys</th>\n",
       "      <th>survey response rate percent</th>\n",
       "      <th>start date</th>\n",
       "      <th>end date</th>\n",
       "      <th>year</th>\n",
       "      <th>hospital type</th>\n",
       "      <th>hospital ownership</th>\n",
       "      <th>emergency services</th>\n",
       "      <th>meets criteria for promoting interoperability of ehrs</th>\n",
       "      <th>hospital overall rating</th>\n",
       "      <th>mortality national comparison</th>\n",
       "      <th>safety of care national comparison</th>\n",
       "      <th>readmission national comparison</th>\n",
       "      <th>patient experience national comparison</th>\n",
       "      <th>effectiveness of care national comparison</th>\n",
       "      <th>timeliness of care national comparison</th>\n",
       "      <th>efficient use of medical imaging national comparison</th>\n",
       "      <th>state full name</th>\n",
       "    </tr>\n",
       "  </thead>\n",
       "  <tbody>\n",
       "    <tr>\n",
       "      <th>0</th>\n",
       "      <td>10001</td>\n",
       "      <td>AL</td>\n",
       "      <td>H_STAR_RATING</td>\n",
       "      <td>Summary star rating</td>\n",
       "      <td>Summary star rating</td>\n",
       "      <td>3</td>\n",
       "      <td>Not Applicable</td>\n",
       "      <td>Not Applicable</td>\n",
       "      <td>1213</td>\n",
       "      <td>27</td>\n",
       "      <td>04/01/2015</td>\n",
       "      <td>03/31/2016</td>\n",
       "      <td>2016</td>\n",
       "      <td>Acute Care Hospitals</td>\n",
       "      <td>Government - Hospital District or Authority</td>\n",
       "      <td>Yes</td>\n",
       "      <td>Y</td>\n",
       "      <td>3</td>\n",
       "      <td>Same as the National average</td>\n",
       "      <td>Above the National average</td>\n",
       "      <td>Same as the National average</td>\n",
       "      <td>Below the National average</td>\n",
       "      <td>Same as the National average</td>\n",
       "      <td>Same as the National average</td>\n",
       "      <td>Same as the National average</td>\n",
       "      <td>Alabama</td>\n",
       "    </tr>\n",
       "    <tr>\n",
       "      <th>1</th>\n",
       "      <td>10001</td>\n",
       "      <td>AL</td>\n",
       "      <td>H_CLEAN_HSP_A_P</td>\n",
       "      <td>Patients who reported that their room and bath...</td>\n",
       "      <td>Room was \"always\" clean</td>\n",
       "      <td>Not Applicable</td>\n",
       "      <td>65</td>\n",
       "      <td>Not Applicable</td>\n",
       "      <td>1213</td>\n",
       "      <td>27</td>\n",
       "      <td>04/01/2015</td>\n",
       "      <td>03/31/2016</td>\n",
       "      <td>2016</td>\n",
       "      <td>Acute Care Hospitals</td>\n",
       "      <td>Government - Hospital District or Authority</td>\n",
       "      <td>Yes</td>\n",
       "      <td>Y</td>\n",
       "      <td>3</td>\n",
       "      <td>Same as the National average</td>\n",
       "      <td>Above the National average</td>\n",
       "      <td>Same as the National average</td>\n",
       "      <td>Below the National average</td>\n",
       "      <td>Same as the National average</td>\n",
       "      <td>Same as the National average</td>\n",
       "      <td>Same as the National average</td>\n",
       "      <td>Alabama</td>\n",
       "    </tr>\n",
       "    <tr>\n",
       "      <th>2</th>\n",
       "      <td>10001</td>\n",
       "      <td>AL</td>\n",
       "      <td>H_CLEAN_HSP_SN_P</td>\n",
       "      <td>Patients who reported that their room and bath...</td>\n",
       "      <td>Room was \"sometimes\" or \"never\" clean</td>\n",
       "      <td>Not Applicable</td>\n",
       "      <td>12</td>\n",
       "      <td>Not Applicable</td>\n",
       "      <td>1213</td>\n",
       "      <td>27</td>\n",
       "      <td>04/01/2015</td>\n",
       "      <td>03/31/2016</td>\n",
       "      <td>2016</td>\n",
       "      <td>Acute Care Hospitals</td>\n",
       "      <td>Government - Hospital District or Authority</td>\n",
       "      <td>Yes</td>\n",
       "      <td>Y</td>\n",
       "      <td>3</td>\n",
       "      <td>Same as the National average</td>\n",
       "      <td>Above the National average</td>\n",
       "      <td>Same as the National average</td>\n",
       "      <td>Below the National average</td>\n",
       "      <td>Same as the National average</td>\n",
       "      <td>Same as the National average</td>\n",
       "      <td>Same as the National average</td>\n",
       "      <td>Alabama</td>\n",
       "    </tr>\n",
       "    <tr>\n",
       "      <th>3</th>\n",
       "      <td>10001</td>\n",
       "      <td>AL</td>\n",
       "      <td>H_CLEAN_HSP_U_P</td>\n",
       "      <td>Patients who reported that their room and bath...</td>\n",
       "      <td>Room was \"usually\" clean</td>\n",
       "      <td>Not Applicable</td>\n",
       "      <td>23</td>\n",
       "      <td>Not Applicable</td>\n",
       "      <td>1213</td>\n",
       "      <td>27</td>\n",
       "      <td>04/01/2015</td>\n",
       "      <td>03/31/2016</td>\n",
       "      <td>2016</td>\n",
       "      <td>Acute Care Hospitals</td>\n",
       "      <td>Government - Hospital District or Authority</td>\n",
       "      <td>Yes</td>\n",
       "      <td>Y</td>\n",
       "      <td>3</td>\n",
       "      <td>Same as the National average</td>\n",
       "      <td>Above the National average</td>\n",
       "      <td>Same as the National average</td>\n",
       "      <td>Below the National average</td>\n",
       "      <td>Same as the National average</td>\n",
       "      <td>Same as the National average</td>\n",
       "      <td>Same as the National average</td>\n",
       "      <td>Alabama</td>\n",
       "    </tr>\n",
       "    <tr>\n",
       "      <th>4</th>\n",
       "      <td>10001</td>\n",
       "      <td>AL</td>\n",
       "      <td>H_CLEAN_LINEAR_SCORE</td>\n",
       "      <td>Cleanliness - linear mean score</td>\n",
       "      <td>Cleanliness - linear mean score</td>\n",
       "      <td>Not Applicable</td>\n",
       "      <td>Not Applicable</td>\n",
       "      <td>84</td>\n",
       "      <td>1213</td>\n",
       "      <td>27</td>\n",
       "      <td>04/01/2015</td>\n",
       "      <td>03/31/2016</td>\n",
       "      <td>2016</td>\n",
       "      <td>Acute Care Hospitals</td>\n",
       "      <td>Government - Hospital District or Authority</td>\n",
       "      <td>Yes</td>\n",
       "      <td>Y</td>\n",
       "      <td>3</td>\n",
       "      <td>Same as the National average</td>\n",
       "      <td>Above the National average</td>\n",
       "      <td>Same as the National average</td>\n",
       "      <td>Below the National average</td>\n",
       "      <td>Same as the National average</td>\n",
       "      <td>Same as the National average</td>\n",
       "      <td>Same as the National average</td>\n",
       "      <td>Alabama</td>\n",
       "    </tr>\n",
       "  </tbody>\n",
       "</table>\n",
       "</div>"
      ],
      "text/plain": [
       "  facility id state     hcahps measure id  \\\n",
       "0       10001    AL         H_STAR_RATING   \n",
       "1       10001    AL       H_CLEAN_HSP_A_P   \n",
       "2       10001    AL      H_CLEAN_HSP_SN_P   \n",
       "3       10001    AL       H_CLEAN_HSP_U_P   \n",
       "4       10001    AL  H_CLEAN_LINEAR_SCORE   \n",
       "\n",
       "                                     hcahps question  \\\n",
       "0                                Summary star rating   \n",
       "1  Patients who reported that their room and bath...   \n",
       "2  Patients who reported that their room and bath...   \n",
       "3  Patients who reported that their room and bath...   \n",
       "4                    Cleanliness - linear mean score   \n",
       "\n",
       "               hcahps answer description patient survey star rating  \\\n",
       "0                    Summary star rating                          3   \n",
       "1                Room was \"always\" clean             Not Applicable   \n",
       "2  Room was \"sometimes\" or \"never\" clean             Not Applicable   \n",
       "3               Room was \"usually\" clean             Not Applicable   \n",
       "4        Cleanliness - linear mean score             Not Applicable   \n",
       "\n",
       "  hcahps answer percent hcahps linear mean value number of completed surveys  \\\n",
       "0        Not Applicable           Not Applicable                        1213   \n",
       "1                    65           Not Applicable                        1213   \n",
       "2                    12           Not Applicable                        1213   \n",
       "3                    23           Not Applicable                        1213   \n",
       "4        Not Applicable                       84                        1213   \n",
       "\n",
       "  survey response rate percent  start date    end date  year  \\\n",
       "0                           27  04/01/2015  03/31/2016  2016   \n",
       "1                           27  04/01/2015  03/31/2016  2016   \n",
       "2                           27  04/01/2015  03/31/2016  2016   \n",
       "3                           27  04/01/2015  03/31/2016  2016   \n",
       "4                           27  04/01/2015  03/31/2016  2016   \n",
       "\n",
       "          hospital type                           hospital ownership  \\\n",
       "0  Acute Care Hospitals  Government - Hospital District or Authority   \n",
       "1  Acute Care Hospitals  Government - Hospital District or Authority   \n",
       "2  Acute Care Hospitals  Government - Hospital District or Authority   \n",
       "3  Acute Care Hospitals  Government - Hospital District or Authority   \n",
       "4  Acute Care Hospitals  Government - Hospital District or Authority   \n",
       "\n",
       "  emergency services meets criteria for promoting interoperability of ehrs  \\\n",
       "0                Yes                                                  Y      \n",
       "1                Yes                                                  Y      \n",
       "2                Yes                                                  Y      \n",
       "3                Yes                                                  Y      \n",
       "4                Yes                                                  Y      \n",
       "\n",
       "  hospital overall rating mortality national comparison  \\\n",
       "0                       3  Same as the National average   \n",
       "1                       3  Same as the National average   \n",
       "2                       3  Same as the National average   \n",
       "3                       3  Same as the National average   \n",
       "4                       3  Same as the National average   \n",
       "\n",
       "  safety of care national comparison readmission national comparison  \\\n",
       "0         Above the National average    Same as the National average   \n",
       "1         Above the National average    Same as the National average   \n",
       "2         Above the National average    Same as the National average   \n",
       "3         Above the National average    Same as the National average   \n",
       "4         Above the National average    Same as the National average   \n",
       "\n",
       "  patient experience national comparison  \\\n",
       "0             Below the National average   \n",
       "1             Below the National average   \n",
       "2             Below the National average   \n",
       "3             Below the National average   \n",
       "4             Below the National average   \n",
       "\n",
       "  effectiveness of care national comparison  \\\n",
       "0              Same as the National average   \n",
       "1              Same as the National average   \n",
       "2              Same as the National average   \n",
       "3              Same as the National average   \n",
       "4              Same as the National average   \n",
       "\n",
       "  timeliness of care national comparison  \\\n",
       "0           Same as the National average   \n",
       "1           Same as the National average   \n",
       "2           Same as the National average   \n",
       "3           Same as the National average   \n",
       "4           Same as the National average   \n",
       "\n",
       "  efficient use of medical imaging national comparison state full name  \n",
       "0                       Same as the National average           Alabama  \n",
       "1                       Same as the National average           Alabama  \n",
       "2                       Same as the National average           Alabama  \n",
       "3                       Same as the National average           Alabama  \n",
       "4                       Same as the National average           Alabama  "
      ]
     },
     "execution_count": 12,
     "metadata": {},
     "output_type": "execute_result"
    }
   ],
   "source": [
    "us_state_to_abbrev = {\n",
    "    \"Alabama\": \"AL\",\n",
    "    \"Alaska\": \"AK\",\n",
    "    \"Arizona\": \"AZ\",\n",
    "    \"Arkansas\": \"AR\",\n",
    "    \"California\": \"CA\",\n",
    "    \"Colorado\": \"CO\",\n",
    "    \"Connecticut\": \"CT\",\n",
    "    \"Delaware\": \"DE\",\n",
    "    \"Florida\": \"FL\",\n",
    "    \"Georgia\": \"GA\",\n",
    "    \"Hawaii\": \"HI\",\n",
    "    \"Idaho\": \"ID\",\n",
    "    \"Illinois\": \"IL\",\n",
    "    \"Indiana\": \"IN\",\n",
    "    \"Iowa\": \"IA\",\n",
    "    \"Kansas\": \"KS\",\n",
    "    \"Kentucky\": \"KY\",\n",
    "    \"Louisiana\": \"LA\",\n",
    "    \"Maine\": \"ME\",\n",
    "    \"Maryland\": \"MD\",\n",
    "    \"Massachusetts\": \"MA\",\n",
    "    \"Michigan\": \"MI\",\n",
    "    \"Minnesota\": \"MN\",\n",
    "    \"Mississippi\": \"MS\",\n",
    "    \"Missouri\": \"MO\",\n",
    "    \"Montana\": \"MT\",\n",
    "    \"Nebraska\": \"NE\",\n",
    "    \"Nevada\": \"NV\",\n",
    "    \"New Hampshire\": \"NH\",\n",
    "    \"New Jersey\": \"NJ\",\n",
    "    \"New Mexico\": \"NM\",\n",
    "    \"New York\": \"NY\",\n",
    "    \"North Carolina\": \"NC\",\n",
    "    \"North Dakota\": \"ND\",\n",
    "    \"Ohio\": \"OH\",\n",
    "    \"Oklahoma\": \"OK\",\n",
    "    \"Oregon\": \"OR\",\n",
    "    \"Pennsylvania\": \"PA\",\n",
    "    \"Rhode Island\": \"RI\",\n",
    "    \"South Carolina\": \"SC\",\n",
    "    \"South Dakota\": \"SD\",\n",
    "    \"Tennessee\": \"TN\",\n",
    "    \"Texas\": \"TX\",\n",
    "    \"Utah\": \"UT\",\n",
    "    \"Vermont\": \"VT\",\n",
    "    \"Virginia\": \"VA\",\n",
    "    \"Washington\": \"WA\",\n",
    "    \"West Virginia\": \"WV\",\n",
    "    \"Wisconsin\": \"WI\",\n",
    "    \"Wyoming\": \"WY\",\n",
    "    \"District of Columbia\": \"DC\",\n",
    "    \"American Samoa\": \"AS\",\n",
    "    \"Guam\": \"GU\",\n",
    "    \"Northern Mariana Islands\": \"MP\",\n",
    "    \"Puerto Rico\": \"PR\",\n",
    "    \"United States Minor Outlying Islands\": \"UM\",\n",
    "    \"U.S. Virgin Islands\": \"VI\",\n",
    "}\n",
    "\n",
    "abbrev_to_us_state = dict(map(reversed, us_state_to_abbrev.items())) \n",
    "df['state full name']= df['state'].map(abbrev_to_us_state)\n",
    "df.head()"
   ]
  },
  {
   "cell_type": "markdown",
   "id": "8c1e711b",
   "metadata": {},
   "source": [
    "#### Correcting types"
   ]
  },
  {
   "cell_type": "code",
   "execution_count": 13,
   "id": "e2205430",
   "metadata": {},
   "outputs": [],
   "source": [
    "df[\"facility id\"] = df[\"facility id\"].astype(\"int64\")"
   ]
  },
  {
   "cell_type": "markdown",
   "id": "ab0443ae",
   "metadata": {},
   "source": [
    "#### Standardizing strings"
   ]
  },
  {
   "cell_type": "code",
   "execution_count": 14,
   "id": "104d4d6b",
   "metadata": {},
   "outputs": [],
   "source": [
    "lowercase_values(df)"
   ]
  },
  {
   "cell_type": "markdown",
   "id": "4fdbfee0",
   "metadata": {},
   "source": [
    "#### Dropping duplicates"
   ]
  },
  {
   "cell_type": "code",
   "execution_count": 15,
   "id": "edec9453",
   "metadata": {},
   "outputs": [],
   "source": [
    "df.drop_duplicates(inplace=True)"
   ]
  },
  {
   "cell_type": "code",
   "execution_count": 16,
   "id": "623c3356",
   "metadata": {},
   "outputs": [],
   "source": [
    "#Dropping unused columns\n",
    "#df.drop(columns=[\"facility id\"],inplace = True)"
   ]
  },
  {
   "cell_type": "markdown",
   "id": "f56b7224",
   "metadata": {},
   "source": [
    "#### Checking null values"
   ]
  },
  {
   "cell_type": "code",
   "execution_count": 17,
   "id": "a8a8e6d6",
   "metadata": {},
   "outputs": [
    {
     "data": {
      "text/plain": [
       "facility id                                              0\n",
       "state                                                    0\n",
       "hcahps measure id                                        0\n",
       "hcahps question                                          0\n",
       "hcahps answer description                                0\n",
       "patient survey star rating                               0\n",
       "hcahps answer percent                                    0\n",
       "hcahps linear mean value                                 0\n",
       "number of completed surveys                              0\n",
       "survey response rate percent                             0\n",
       "start date                                               0\n",
       "end date                                                 0\n",
       "year                                                     0\n",
       "hospital type                                            0\n",
       "hospital ownership                                       0\n",
       "emergency services                                       0\n",
       "meets criteria for promoting interoperability of ehrs    0\n",
       "hospital overall rating                                  0\n",
       "mortality national comparison                            0\n",
       "safety of care national comparison                       0\n",
       "readmission national comparison                          0\n",
       "patient experience national comparison                   0\n",
       "effectiveness of care national comparison                0\n",
       "timeliness of care national comparison                   0\n",
       "efficient use of medical imaging national comparison     0\n",
       "state full name                                          0\n",
       "dtype: int64"
      ]
     },
     "execution_count": 17,
     "metadata": {},
     "output_type": "execute_result"
    }
   ],
   "source": [
    "df.isna().sum()"
   ]
  },
  {
   "cell_type": "markdown",
   "id": "0b193934",
   "metadata": {},
   "source": [
    "#### Dividing dataframes based on the available information"
   ]
  },
  {
   "cell_type": "code",
   "execution_count": 18,
   "id": "b2a0f86f",
   "metadata": {},
   "outputs": [],
   "source": [
    "df_star_rating = df[df[\"hcahps question\"] == \"summary star rating\"]\n",
    "df_patient_star_rating = df[df[\"patient survey star rating\"] != \"not applicable\"]\n",
    "df_patient_answer = df[df[\"hcahps answer percent\"] != \"not applicable\"]\n",
    "df_linear_mean_value = df[df[\"hcahps linear mean value\"] != \"not applicable\"]"
   ]
  },
  {
   "cell_type": "markdown",
   "id": "28554890",
   "metadata": {},
   "source": [
    "#### Dropping unused columns"
   ]
  },
  {
   "cell_type": "code",
   "execution_count": 19,
   "id": "a947ba57",
   "metadata": {},
   "outputs": [
    {
     "name": "stderr",
     "output_type": "stream",
     "text": [
      "C:\\Users\\floza\\.conda\\envs\\DA_ENV\\lib\\site-packages\\pandas\\core\\frame.py:4906: SettingWithCopyWarning: \n",
      "A value is trying to be set on a copy of a slice from a DataFrame\n",
      "\n",
      "See the caveats in the documentation: https://pandas.pydata.org/pandas-docs/stable/user_guide/indexing.html#returning-a-view-versus-a-copy\n",
      "  return super().drop(\n"
     ]
    }
   ],
   "source": [
    "df_star_rating.drop(columns=[\"hcahps answer percent\",\"hcahps linear mean value\"],inplace = True)\n",
    "df_patient_star_rating.drop(columns=[\"hcahps answer percent\",\"hcahps linear mean value\"],inplace = True)\n",
    "df_patient_answer.drop(columns=[\"patient survey star rating\",\"hcahps linear mean value\"],inplace = True)\n",
    "df_linear_mean_value.drop(columns=[\"hcahps answer percent\",\"patient survey star rating\"],inplace = True)"
   ]
  },
  {
   "cell_type": "markdown",
   "id": "9eafc5a4",
   "metadata": {},
   "source": [
    "#### Saving as a csv"
   ]
  },
  {
   "cell_type": "code",
   "execution_count": 20,
   "id": "a87dff2d",
   "metadata": {},
   "outputs": [],
   "source": [
    "df.to_csv(\"Data/cms_cleaned.csv\")\n",
    "df_star_rating.to_csv(\"Data/cms_star_rating.csv\")\n",
    "df_patient_star_rating.to_csv(\"Data/cms_patient_star_rating.csv\")\n",
    "df_patient_answer.to_csv(\"Data/cms_patient_answer.csv\")\n",
    "df_linear_mean_value.to_csv(\"Data/cms_linear_mean_value.csv\")"
   ]
  }
 ],
 "metadata": {
  "kernelspec": {
   "display_name": "Python 3 (ipykernel)",
   "language": "python",
   "name": "python3"
  },
  "language_info": {
   "codemirror_mode": {
    "name": "ipython",
    "version": 3
   },
   "file_extension": ".py",
   "mimetype": "text/x-python",
   "name": "python",
   "nbconvert_exporter": "python",
   "pygments_lexer": "ipython3",
   "version": "3.9.7"
  },
  "toc": {
   "base_numbering": 1,
   "nav_menu": {},
   "number_sections": true,
   "sideBar": true,
   "skip_h1_title": false,
   "title_cell": "Table of Contents",
   "title_sidebar": "Contents",
   "toc_cell": true,
   "toc_position": {
    "height": "calc(100% - 180px)",
    "left": "10px",
    "top": "150px",
    "width": "200.065px"
   },
   "toc_section_display": true,
   "toc_window_display": true
  }
 },
 "nbformat": 4,
 "nbformat_minor": 5
}
